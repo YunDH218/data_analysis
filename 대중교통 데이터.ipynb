{
 "cells": [
  {
   "cell_type": "markdown",
   "metadata": {},
   "source": [
    "# UNIT 11 대중교통 데이터 시각화하기  \n",
    "수도권 대중교통 데이터는 국가기관이 아닌 [티머니 홈페이지](https://www.t-money.co.kr/)에서 제공한다.  \n",
    "이용 안내 → 대중교통 통계자료 → 첨부파일 다운로드\n",
    "\n",
    "해당 데이터는 네 가지 탭으로 나누어져 있다. 데이터 안의 콤마(,)와 작업일시 열을 삭제한 다음 csv 저장한다.\n",
    "* 버스정류장별 이용현황  \n",
    "    - 사용월, 노선ID, 노선번호, 노선별, 버스정류장ID, 버스정류장명, 승차승객수, 하차승객수\n",
    "* 지하철 노선별 역별 이용현황  \n",
    "    - 사용월, 호선명, 역ID, 지하철역, 승차승객수, 하차승객수  \n",
    "* 지하철 유무임별 이용현황 → subwayfee.csv  \n",
    "    - 사용월, 호선명, 역ID, 지하철역, 유임승차, 유임하차, 무임승차, 무임하차  \n",
    "* 지하철 시간대별 이용현황  \n",
    "    - 사용월, 호선명, 역ID, 지하철역, 시간대(1시간 간격)(승차, 하차)  \n",
    "\n",
    "## 유임 승차 비율이 가장 높은 역은 어디일까?  \n",
    "\n",
    "유임 승차 비율이 가장 높은 역을 알기 위해서는 유임 승차 비율을 정의해야 한다. 간단하게 아래와 같이 정해보자.  \n",
    "```rate = 유임 승차 인원 / 무임 승차 인원```  \n",
    "이렇게 정의한다면 어떤 문제가 발생할까? 무임 승차 인원이 0인 데이터의 경우 에러가 발생할 것이다. 다시 아래와 같이 정해보자.  \n",
    "```rate = 유임 승차 인원 / (유임 승차 인원 + 무임 승차 인원)```  "
   ]
  },
  {
   "cell_type": "code",
   "execution_count": 5,
   "metadata": {},
   "outputs": [
    {
     "name": "stdout",
     "output_type": "stream",
     "text": [
      "홍대입구 2호선 95.34\n"
     ]
    }
   ],
   "source": [
    "# 유임 승차 비율이 가장 높은 역 찾기\n",
    "import csv\n",
    "f = open('subwayfee.csv', encoding='UTF8')\n",
    "data = csv.reader(f)\n",
    "next(data)\n",
    "\n",
    "mx = 0\n",
    "rate = 0\n",
    "mx_station = ''\n",
    "\n",
    "for row in data:\n",
    "    for i in range(4, 8):  # 문자열 데이터 정수화\n",
    "        row[i] = int(row[i])\n",
    "    if row[6] != 0 and (row[4]+row[6]) > 100000:  # 무임 승차 인원이 0이고, 전체 승차 인원이 10만 명 이상인 건에 대하여\n",
    "        rate = row[4] / (row[4]+row[6])\n",
    "        if rate > mx:\n",
    "            mx = rate\n",
    "            mx_station = row[3] + ' ' + row[1]  # 예) 서울역 1호선\n",
    "print(mx_station, round(mx*100, 2))"
   ]
  },
  {
   "cell_type": "code",
   "execution_count": 7,
   "metadata": {},
   "outputs": [
    {
     "name": "stdout",
     "output_type": "stream",
     "text": [
      "강남 2호선 3153418\n",
      "강남 2호선 3210437\n",
      "종로3가 1호선 387062\n",
      "제기동 1호선 400607\n"
     ]
    }
   ],
   "source": [
    "# 유무임 승하차 인원이 가장 많은 역은 어디일까\n",
    "import csv\n",
    "f = open('subwayfee.csv', encoding='UTF8')\n",
    "data = csv.reader(f)\n",
    "next(data)\n",
    "\n",
    "mx = [0] * 4\n",
    "mx_station = [''] * 4\n",
    "\n",
    "for row in data:\n",
    "    for i in range(4, 8):\n",
    "        row[i] = int(row[i])\n",
    "        if row[i] > mx[i-4]:\n",
    "            mx[i-4] = row[i]\n",
    "            mx_station[i-4] = row[3] + ' ' + row[1]\n",
    "for i in range(4):\n",
    "    print(mx_station[i], mx[i])"
   ]
  },
  {
   "cell_type": "markdown",
   "metadata": {},
   "source": [
    "# 모든 역의 유무임 승하차 비율은 어떻게 될까\n",
    "데이터가 있는 모든 역에 대한 유무임 승하차 비율을 파이 차트로 표현해보자. (교재에는 모든 역에 대해 질문하나, 실제 실행하기에는 양이 많으므로 사용자가 입력 받은 역에 대하여만 수행할 수 있도록 바꾸었다.)"
   ]
  },
  {
   "cell_type": "code",
   "execution_count": 15,
   "metadata": {},
   "outputs": [
    {
     "name": "stdout",
     "output_type": "stream",
     "text": [
      "궁금한 역을 입력해주세요 : 강남\n"
     ]
    },
    {
     "data": {
      "image/png": "[encoded data removed]",
      "text/plain": [
       "<Figure size 600x400 with 1 Axes>"
      ]
     },
     "metadata": {},
     "output_type": "display_data"
    }
   ],
   "source": [
    "import csv\n",
    "import matplotlib.pyplot as plt\n",
    "\n",
    "f = open('subwayfee.csv', encoding='UTF8')\n",
    "data = csv.reader(f)\n",
    "next(data)\n",
    "label = ['유임승차', '유임하차', '무임승차', '무임하차']\n",
    "result = []\n",
    "\n",
    "station = input('궁금한 역을 입력해주세요 : ')\n",
    "line = []\n",
    "for row in data:\n",
    "    if row[3] == station:\n",
    "        value = [0] * 4\n",
    "        for i in range(4,8):\n",
    "            value[i-4] = int(row[i])\n",
    "        result.append(value)\n",
    "        line.append(row[1])\n",
    "            \n",
    "for i in range(len(result)):\n",
    "    plt.figure(dpi=100)\n",
    "    plt.rc('font', family='Malgun Gothic')\n",
    "    plt.title(station+' '+line[i])\n",
    "    plt.pie(result[i], labels=['유임승차', '유임하차', '무임승차', '무임하차'], autopct='%.1f%%')\n",
    "    plt.axis('equal')\n",
    "    plt.show()"
   ]
  },
  {
   "cell_type": "code",
   "execution_count": null,
   "metadata": {},
   "outputs": [],
   "source": []
  }
 ],
 "metadata": {
  "kernelspec": {
   "display_name": "Python 3",
   "language": "python",
   "name": "python3"
  },
  "language_info": {
   "codemirror_mode": {
    "name": "ipython",
    "version": 3
   },
   "file_extension": ".py",
   "mimetype": "text/x-python",
   "name": "python",
   "nbconvert_exporter": "python",
   "pygments_lexer": "ipython3",
   "version": "3.7.1"
  }
 },
 "nbformat": 4,
 "nbformat_minor": 5
}
