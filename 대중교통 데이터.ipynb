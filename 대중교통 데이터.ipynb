{
 "cells": [
  {
   "cell_type": "markdown",
   "id": "45163ae1",
   "metadata": {},
   "source": [
    "# UNIT 11 대중교통 데이터 시각화하기  \n",
    "수도권 대중교통 데이터는 국가기관이 아닌 [티머니 홈페이지](https://www.t-money.co.kr/)에서 제공한다.  \n",
    "이용 안내 → 대중교통 통계자료 → 첨부파일 다운로드\n",
    "\n",
    "해당 데이터는 네 가지 탭으로 나누어져 있다. 데이터 안의 콤마(,)와 자업일시 열을 삭제한 다음 csv 저장한다.\n",
    "- 버스정류장별 이용현황  \n",
    "- 지하철 노선별 역별 이용현황  \n",
    "- 지하철 유무임별 이용현황 → subwayfee.csv  \n",
    "- 지하철 시간대별 이용현황  \n"
   ]
  },
  {
   "cell_type": "code",
   "execution_count": null,
   "id": "1a0b2d3c",
   "metadata": {},
   "outputs": [],
   "source": []
  }
 ],
 "metadata": {
  "kernelspec": {
   "display_name": "Python 3 (ipykernel)",
   "language": "python",
   "name": "python3"
  },
  "language_info": {
   "codemirror_mode": {
    "name": "ipython",
    "version": 3
   },
   "file_extension": ".py",
   "mimetype": "text/x-python",
   "name": "python",
   "nbconvert_exporter": "python",
   "pygments_lexer": "ipython3",
   "version": "3.9.12"
  }
 },
 "nbformat": 4,
 "nbformat_minor": 5
}
